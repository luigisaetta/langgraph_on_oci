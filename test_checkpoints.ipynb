{
 "cells": [
  {
   "cell_type": "markdown",
   "id": "371bc1b0-ace0-41fc-b777-c53df98a5e9f",
   "metadata": {},
   "source": [
    "## Test OracleCheckpointSaver"
   ]
  },
  {
   "cell_type": "code",
   "execution_count": 1,
   "id": "4dc5d1a0-3fd6-4451-a1cd-bc9c77ff2401",
   "metadata": {},
   "outputs": [],
   "source": [
    "import uuid\n",
    "import time\n",
    "from typing import TypedDict\n",
    "from IPython.display import Image, display\n",
    "from langgraph.graph import StateGraph, START, END\n",
    "from oracle_checkpoint_saver import OracleCheckpointSaver"
   ]
  },
  {
   "cell_type": "code",
   "execution_count": 2,
   "id": "2d2ac276-84bc-4e26-9b00-633a99e833c5",
   "metadata": {},
   "outputs": [],
   "source": [
    "# the shared state\n",
    "class State(TypedDict):\n",
    "    input: str\n",
    "    processed: str"
   ]
  },
  {
   "cell_type": "code",
   "execution_count": 3,
   "id": "4dae2a12-33b5-4243-a41d-00a7a3c622c7",
   "metadata": {},
   "outputs": [],
   "source": [
    "# first node\n",
    "def process_input(state: State) -> State:\n",
    "\n",
    "    print(\"Sleep for 10 sec..\")\n",
    "    time.sleep(10)\n",
    "    \n",
    "    text = state[\"input\"]\n",
    "    processed = text.upper()\n",
    "    state[\"processed\"] = processed\n",
    "\n",
    "    print(\"Execution, first step:\", state)\n",
    "    \n",
    "    return state\n",
    "\n",
    "# second node\n",
    "def middle_node(state: State) -> State:\n",
    "    print(\"Sleep for 10 sec..\")\n",
    "    time.sleep(10)\n",
    "\n",
    "    print(\"Execution, middle step...\")\n",
    "    \n",
    "    return state\n",
    "    \n",
    "# end node\n",
    "def end_node(state: State) -> State:\n",
    "\n",
    "    print(\"Sleep for 10 sec..\")\n",
    "    time.sleep(10)\n",
    "    \n",
    "    print(\"Execution completed. Final step:\", state)\n",
    "    \n",
    "    return state"
   ]
  },
  {
   "cell_type": "code",
   "execution_count": 4,
   "id": "616fa1f2-55c4-43af-a677-3696340a150c",
   "metadata": {},
   "outputs": [],
   "source": [
    "# build the graph\n",
    "builder = StateGraph(State)\n",
    "\n",
    "builder.add_node(\"process\", process_input)\n",
    "builder.add_node(\"middle\", middle_node)\n",
    "builder.add_node(\"end\", end_node)\n",
    "\n",
    "builder.add_edge(START, \"process\")\n",
    "builder.add_edge(\"process\", \"middle\")\n",
    "builder.add_edge(\"middle\", \"end\")\n",
    "builder.add_edge(\"end\", END)\n",
    "# builder.set_finish_point(\"end\")\n",
    "\n",
    "# 6. Aggiungiamo il checkpointer\n",
    "saver = OracleCheckpointSaver()\n",
    "graph = builder.compile(checkpointer=saver)"
   ]
  },
  {
   "cell_type": "code",
   "execution_count": 5,
   "id": "a0ade40d-dc65-43a3-8acd-2b5f8fefbc0a",
   "metadata": {},
   "outputs": [],
   "source": [
    "# set the input\n",
    "initial_state = {\"input\": \"Hello LangGraph!\", \"processed\": \"\"}\n",
    "\n",
    "thread_id = \"00001\" # str(uuid.uuid4())\n",
    "\n",
    "agent_config = {\n",
    "    \"configurable\": {\n",
    "        \"thread_id\": thread_id\n",
    "    }\n",
    "}"
   ]
  },
  {
   "cell_type": "code",
   "execution_count": 13,
   "id": "32371807-d8ae-4595-97b1-0978350b4090",
   "metadata": {},
   "outputs": [
    {
     "name": "stderr",
     "output_type": "stream",
     "text": [
      "2025-04-21 17:21:28,900 - Checkpoint row found!\n"
     ]
    }
   ],
   "source": [
    "# 7. Execute the graph\n",
    "# to start from zero: pass initial_state, to restart pass None\n",
    "# final_state = graph.invoke(initial_state, config=agent_config)\n",
    "\n",
    "# to restart need simply to pass the same thread_id with input = None\n",
    "final_state = graph.invoke(None, config=agent_config)"
   ]
  },
  {
   "cell_type": "code",
   "execution_count": null,
   "id": "bfcf01fc-56ca-40ae-b104-cbb432ccd36c",
   "metadata": {},
   "outputs": [],
   "source": []
  }
 ],
 "metadata": {
  "kernelspec": {
   "display_name": "Python 3 (ipykernel)",
   "language": "python",
   "name": "python3"
  },
  "language_info": {
   "codemirror_mode": {
    "name": "ipython",
    "version": 3
   },
   "file_extension": ".py",
   "mimetype": "text/x-python",
   "name": "python",
   "nbconvert_exporter": "python",
   "pygments_lexer": "ipython3",
   "version": "3.11.0"
  }
 },
 "nbformat": 4,
 "nbformat_minor": 5
}
