{
 "cells": [
  {
   "cell_type": "code",
   "execution_count": 1,
   "id": "9f0c3945-560c-4816-8dfe-10054a79ef8b",
   "metadata": {},
   "outputs": [],
   "source": [
    "from oracle_checkpoint_saver import OracleCheckpointSaver"
   ]
  },
  {
   "cell_type": "code",
   "execution_count": 2,
   "id": "bf531cb0-542d-4220-a4ba-64456be7060f",
   "metadata": {},
   "outputs": [],
   "source": [
    "checkpointer = OracleCheckpointSaver()"
   ]
  },
  {
   "cell_type": "code",
   "execution_count": 3,
   "id": "ea4b5a37-0bd0-4264-92b4-99ee7567e9c0",
   "metadata": {},
   "outputs": [],
   "source": [
    "read_config = {\"configurable\": {\"thread_id\": \"00001\"}}"
   ]
  },
  {
   "cell_type": "code",
   "execution_count": 4,
   "id": "ff5c23e1-36de-4de1-b318-7a8a3f082c31",
   "metadata": {},
   "outputs": [
    {
     "name": "stdout",
     "output_type": "stream",
     "text": [
      "CheckpointTuple(config={'configurable': {'thread_id': '00001'}}, checkpoint={'v': 3, 'ts': '2025-04-21T15:21:17.459817+00:00', 'id': '1f01ec44-55c7-6fbe-8008-cc22d6ecd089', 'channel_values': {'input': 'Hello LangGraph!', 'processed': 'HELLO LANGGRAPH!'}, 'channel_versions': {'__start__': 7, 'input': 10, 'processed': 10, 'branch:to:process': 8, 'branch:to:middle': 9, 'branch:to:end': 10}, 'versions_seen': {'__input__': {}, '__start__': {'__start__': 6}, '__interrupt__': {'input': 4, 'processed': 4, '__start__': 2, 'branch:to:process': 3, 'branch:to:middle': 4, 'branch:to:end': 4}, 'process': {'branch:to:process': 7}, 'middle': {'branch:to:middle': 8}, 'end': {'branch:to:end': 9}}, 'pending_sends': []}, metadata={'source': 'loop', 'writes': {'end': {'input': 'Hello LangGraph!', 'processed': 'HELLO LANGGRAPH!'}}, 'step': 8, 'parents': {}, 'thread_id': '00001'}, parent_config=None, pending_writes=None)\n",
      "\n",
      "\n",
      "CheckpointTuple(config={'configurable': {'thread_id': '00001'}}, checkpoint={'v': 3, 'ts': '2025-04-21T15:21:07.457742+00:00', 'id': '1f01ec43-f664-6d4c-8007-abf6e9e03d73', 'channel_values': {'input': 'Hello LangGraph!', 'processed': 'HELLO LANGGRAPH!', 'branch:to:end': None}, 'channel_versions': {'__start__': 7, 'input': 9, 'processed': 9, 'branch:to:process': 8, 'branch:to:middle': 9, 'branch:to:end': 9}, 'versions_seen': {'__input__': {}, '__start__': {'__start__': 6}, '__interrupt__': {'input': 4, 'processed': 4, '__start__': 2, 'branch:to:process': 3, 'branch:to:middle': 4, 'branch:to:end': 4}, 'process': {'branch:to:process': 7}, 'middle': {'branch:to:middle': 8}, 'end': {'branch:to:end': 4}}, 'pending_sends': []}, metadata={'source': 'loop', 'writes': {'middle': {'input': 'Hello LangGraph!', 'processed': 'HELLO LANGGRAPH!'}}, 'step': 7, 'parents': {}, 'thread_id': '00001'}, parent_config=None, pending_writes=None)\n",
      "\n",
      "\n",
      "CheckpointTuple(config={'configurable': {'thread_id': '00001'}}, checkpoint={'v': 3, 'ts': '2025-04-21T15:20:57.452039+00:00', 'id': '1f01ec43-96f8-6de0-8006-f213a028d6af', 'channel_values': {'input': 'Hello LangGraph!', 'processed': 'HELLO LANGGRAPH!', 'branch:to:middle': None}, 'channel_versions': {'__start__': 7, 'input': 8, 'processed': 8, 'branch:to:process': 8, 'branch:to:middle': 8, 'branch:to:end': 5}, 'versions_seen': {'__input__': {}, '__start__': {'__start__': 6}, '__interrupt__': {'input': 4, 'processed': 4, '__start__': 2, 'branch:to:process': 3, 'branch:to:middle': 4, 'branch:to:end': 4}, 'process': {'branch:to:process': 7}, 'middle': {'branch:to:middle': 3}, 'end': {'branch:to:end': 4}}, 'pending_sends': []}, metadata={'source': 'loop', 'writes': {'process': {'input': 'Hello LangGraph!', 'processed': 'HELLO LANGGRAPH!'}}, 'step': 6, 'parents': {}, 'thread_id': '00001'}, parent_config=None, pending_writes=None)\n",
      "\n",
      "\n",
      "CheckpointTuple(config={'configurable': {'thread_id': '00001'}}, checkpoint={'v': 3, 'ts': '2025-04-21T15:20:47.448279+00:00', 'id': '1f01ec43-3791-699c-8005-1e31acb588dd', 'channel_values': {'input': 'Hello LangGraph!', 'processed': '', 'branch:to:process': None}, 'channel_versions': {'__start__': 7, 'input': 7, 'processed': 7, 'branch:to:process': 7, 'branch:to:middle': 4, 'branch:to:end': 5}, 'versions_seen': {'__input__': {}, '__start__': {'__start__': 6}, '__interrupt__': {'input': 4, 'processed': 4, '__start__': 2, 'branch:to:process': 3, 'branch:to:middle': 4, 'branch:to:end': 4}, 'process': {'branch:to:process': 2}, 'middle': {'branch:to:middle': 3}, 'end': {'branch:to:end': 4}}, 'pending_sends': []}, metadata={'source': 'loop', 'writes': None, 'step': 5, 'parents': {}, 'thread_id': '00001'}, parent_config=None, pending_writes=None)\n",
      "\n",
      "\n",
      "CheckpointTuple(config={'configurable': {'thread_id': '00001'}}, checkpoint={'v': 3, 'ts': '2025-04-21T15:20:47.446285+00:00', 'id': '1f01ec43-378c-6c12-8004-006cf4660550', 'channel_values': {'input': 'Hello LangGraph!', 'processed': 'HELLO LANGGRAPH!', '__start__': {'input': 'Hello LangGraph!', 'processed': ''}}, 'channel_versions': {'__start__': 6, 'input': 5, 'processed': 5, 'branch:to:process': 3, 'branch:to:middle': 4, 'branch:to:end': 5}, 'versions_seen': {'__input__': {}, '__start__': {'__start__': 1}, '__interrupt__': {'input': 4, 'processed': 4, '__start__': 2, 'branch:to:process': 3, 'branch:to:middle': 4, 'branch:to:end': 4}, 'process': {'branch:to:process': 2}, 'middle': {'branch:to:middle': 3}, 'end': {'branch:to:end': 4}}, 'pending_sends': []}, metadata={'source': 'input', 'writes': {'__start__': {'input': 'Hello LangGraph!', 'processed': ''}}, 'step': 4, 'parents': {}, 'thread_id': '00001'}, parent_config=None, pending_writes=None)\n",
      "\n",
      "\n",
      "CheckpointTuple(config={'configurable': {'thread_id': '00001'}}, checkpoint={'v': 3, 'ts': '2025-04-21T15:19:40.743725+00:00', 'id': '1f01ec40-bb6c-6bf2-8003-6103519cb599', 'channel_values': {'input': 'Hello LangGraph!', 'processed': 'HELLO LANGGRAPH!'}, 'channel_versions': {'__start__': 2, 'input': 5, 'processed': 5, 'branch:to:process': 3, 'branch:to:middle': 4, 'branch:to:end': 5}, 'versions_seen': {'__input__': {}, '__start__': {'__start__': 1}, '__interrupt__': {'input': 4, 'processed': 4, '__start__': 2, 'branch:to:process': 3, 'branch:to:middle': 4, 'branch:to:end': 4}, 'process': {'branch:to:process': 2}, 'middle': {'branch:to:middle': 3}, 'end': {'branch:to:end': 4}}, 'pending_sends': []}, metadata={'source': 'loop', 'writes': {'end': {'input': 'Hello LangGraph!', 'processed': 'HELLO LANGGRAPH!'}}, 'step': 3, 'parents': {}, 'thread_id': '00001'}, parent_config=None, pending_writes=None)\n",
      "\n",
      "\n",
      "CheckpointTuple(config={'configurable': {'thread_id': '00001'}}, checkpoint={'v': 3, 'ts': '2025-04-21T15:19:25.648799+00:00', 'id': '1f01ec40-2b77-6f06-8002-5781422648aa', 'channel_values': {'input': 'Hello LangGraph!', 'processed': 'HELLO LANGGRAPH!', 'branch:to:end': None}, 'channel_versions': {'__start__': 2, 'input': 4, 'processed': 4, 'branch:to:process': 3, 'branch:to:middle': 4, 'branch:to:end': 4}, 'versions_seen': {'__input__': {}, '__start__': {'__start__': 1}, '__interrupt__': {'input': 3, 'processed': 3, '__start__': 2, 'branch:to:process': 3, 'branch:to:middle': 3}, 'process': {'branch:to:process': 2}, 'middle': {'branch:to:middle': 3}}, 'pending_sends': []}, metadata={'source': 'loop', 'writes': {'middle': {'input': 'Hello LangGraph!', 'processed': 'HELLO LANGGRAPH!'}}, 'step': 2, 'parents': {}, 'thread_id': '00001'}, parent_config=None, pending_writes=None)\n",
      "\n",
      "\n",
      "CheckpointTuple(config={'configurable': {'thread_id': '00001'}}, checkpoint={'v': 3, 'ts': '2025-04-21T15:19:03.023782+00:00', 'id': '1f01ec3f-53b3-60d4-8001-d4fbacf60c0a', 'channel_values': {'input': 'Hello LangGraph!', 'processed': 'HELLO LANGGRAPH!', 'branch:to:middle': None}, 'channel_versions': {'__start__': 2, 'input': 3, 'processed': 3, 'branch:to:process': 3, 'branch:to:middle': 3}, 'versions_seen': {'__input__': {}, '__start__': {'__start__': 1}, '__interrupt__': {'input': 2, 'processed': 2, '__start__': 2, 'branch:to:process': 2}, 'process': {'branch:to:process': 2}}, 'pending_sends': []}, metadata={'source': 'loop', 'writes': {'process': {'input': 'Hello LangGraph!', 'processed': 'HELLO LANGGRAPH!'}}, 'step': 1, 'parents': {}, 'thread_id': '00001'}, parent_config=None, pending_writes=None)\n",
      "\n",
      "\n",
      "CheckpointTuple(config={'configurable': {'thread_id': '00001'}}, checkpoint={'v': 3, 'ts': '2025-04-21T15:18:38.747211+00:00', 'id': '1f01ec3e-6c2e-6056-8000-e226ee0718a5', 'channel_values': {'input': 'Hello LangGraph!', 'processed': '', 'branch:to:process': None}, 'channel_versions': {'__start__': 2, 'input': 2, 'processed': 2, 'branch:to:process': 2}, 'versions_seen': {'__input__': {}, '__start__': {'__start__': 1}}, 'pending_sends': []}, metadata={'source': 'loop', 'writes': None, 'step': 0, 'parents': {}, 'thread_id': '00001'}, parent_config=None, pending_writes=None)\n",
      "\n",
      "\n",
      "CheckpointTuple(config={'configurable': {'thread_id': '00001'}}, checkpoint={'v': 3, 'ts': '2025-04-21T15:18:38.743272+00:00', 'id': '1f01ec3e-6c24-6772-bfff-14dfa9e07ed6', 'channel_values': {'__start__': {'input': 'Hello LangGraph!', 'processed': ''}}, 'channel_versions': {'__start__': 1}, 'versions_seen': {'__input__': {}}, 'pending_sends': []}, metadata={'source': 'input', 'writes': {'__start__': {'input': 'Hello LangGraph!', 'processed': ''}}, 'step': -1, 'parents': {}, 'thread_id': '00001'}, parent_config=None, pending_writes=None)\n",
      "\n",
      "\n"
     ]
    }
   ],
   "source": [
    "# list checkpoints\n",
    "checkpoint_list = list(checkpointer.list(read_config))\n",
    "\n",
    "# chkpt are returned from the last to the first\n",
    "for chkpt in checkpoint_list:\n",
    "    print(chkpt)\n",
    "    print(\"\")\n",
    "    print(\"\")"
   ]
  },
  {
   "cell_type": "code",
   "execution_count": null,
   "id": "f2443dfa-aceb-4fa4-9c7e-870c06b27f3e",
   "metadata": {},
   "outputs": [],
   "source": []
  }
 ],
 "metadata": {
  "kernelspec": {
   "display_name": "Python 3 (ipykernel)",
   "language": "python",
   "name": "python3"
  },
  "language_info": {
   "codemirror_mode": {
    "name": "ipython",
    "version": 3
   },
   "file_extension": ".py",
   "mimetype": "text/x-python",
   "name": "python",
   "nbconvert_exporter": "python",
   "pygments_lexer": "ipython3",
   "version": "3.11.0"
  }
 },
 "nbformat": 4,
 "nbformat_minor": 5
}
